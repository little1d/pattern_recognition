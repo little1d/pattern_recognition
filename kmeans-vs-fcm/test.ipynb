{
 "cells": [
  {
   "cell_type": "code",
   "execution_count": null,
   "metadata": {},
   "outputs": [],
   "source": [
    "! pip install datasets"
   ]
  },
  {
   "cell_type": "code",
   "execution_count": 2,
   "metadata": {},
   "outputs": [
    {
     "name": "stderr",
     "output_type": "stream",
     "text": [
      "/Users/little1d/Desktop/Dev_env/miniconda3/envs/moshi/lib/python3.10/site-packages/tqdm/auto.py:21: TqdmWarning: IProgress not found. Please update jupyter and ipywidgets. See https://ipywidgets.readthedocs.io/en/stable/user_install.html\n",
      "  from .autonotebook import tqdm as notebook_tqdm\n"
     ]
    },
    {
     "data": {
      "text/plain": [
       "DatasetDict({\n",
       "    train: Dataset({\n",
       "        features: ['Id', 'SepalLengthCm', 'SepalWidthCm', 'PetalLengthCm', 'PetalWidthCm', 'Species'],\n",
       "        num_rows: 120\n",
       "    })\n",
       "    test: Dataset({\n",
       "        features: ['Id', 'SepalLengthCm', 'SepalWidthCm', 'PetalLengthCm', 'PetalWidthCm', 'Species'],\n",
       "        num_rows: 30\n",
       "    })\n",
       "})"
      ]
     },
     "execution_count": 2,
     "metadata": {},
     "output_type": "execute_result"
    }
   ],
   "source": [
    "from datasets import load_dataset\n",
    "\n",
    "ds = load_dataset(\"scikit-learn/iris\", split=\"train\")\n",
    "\n",
    "ds = ds.train_test_split(test_size=0.2, shuffle=True)\n",
    "\n",
    "ds"
   ]
  },
  {
   "cell_type": "code",
   "execution_count": 3,
   "metadata": {},
   "outputs": [
    {
     "data": {
      "text/plain": [
       "([(5.4, 3.9, 1.7, 0.4),\n",
       "  (4.4, 2.9, 1.4, 0.2),\n",
       "  (5.1, 3.4, 1.5, 0.2),\n",
       "  (6.1, 2.8, 4.0, 1.3),\n",
       "  (7.2, 3.2, 6.0, 1.8),\n",
       "  (5.2, 3.4, 1.4, 0.2),\n",
       "  (5.1, 3.5, 1.4, 0.3),\n",
       "  (5.1, 3.8, 1.5, 0.3),\n",
       "  (7.2, 3.0, 5.8, 1.6),\n",
       "  (6.0, 3.0, 4.8, 1.8),\n",
       "  (6.4, 3.2, 4.5, 1.5),\n",
       "  (6.5, 3.0, 5.5, 1.8),\n",
       "  (6.1, 2.6, 5.6, 1.4),\n",
       "  (5.1, 3.3, 1.7, 0.5),\n",
       "  (5.4, 3.0, 4.5, 1.5),\n",
       "  (6.4, 2.7, 5.3, 1.9),\n",
       "  (6.8, 3.0, 5.5, 2.1),\n",
       "  (4.6, 3.2, 1.4, 0.2),\n",
       "  (5.7, 2.9, 4.2, 1.3),\n",
       "  (7.6, 3.0, 6.6, 2.1),\n",
       "  (6.7, 3.3, 5.7, 2.5),\n",
       "  (4.6, 3.4, 1.4, 0.3),\n",
       "  (6.3, 2.8, 5.1, 1.5),\n",
       "  (5.3, 3.7, 1.5, 0.2),\n",
       "  (4.6, 3.1, 1.5, 0.2),\n",
       "  (5.6, 2.5, 3.9, 1.1),\n",
       "  (7.0, 3.2, 4.7, 1.4),\n",
       "  (4.3, 3.0, 1.1, 0.1),\n",
       "  (6.4, 2.8, 5.6, 2.1),\n",
       "  (6.4, 2.9, 4.3, 1.3),\n",
       "  (5.4, 3.7, 1.5, 0.2),\n",
       "  (6.7, 3.1, 4.7, 1.5),\n",
       "  (5.9, 3.2, 4.8, 1.8),\n",
       "  (4.9, 3.1, 1.5, 0.1),\n",
       "  (4.9, 3.1, 1.5, 0.1),\n",
       "  (6.1, 2.8, 4.7, 1.2),\n",
       "  (5.6, 2.7, 4.2, 1.3),\n",
       "  (7.1, 3.0, 5.9, 2.1),\n",
       "  (5.4, 3.4, 1.5, 0.4),\n",
       "  (5.2, 2.7, 3.9, 1.4),\n",
       "  (5.4, 3.9, 1.3, 0.4),\n",
       "  (4.7, 3.2, 1.6, 0.2),\n",
       "  (6.2, 2.9, 4.3, 1.3),\n",
       "  (5.2, 4.1, 1.5, 0.1),\n",
       "  (7.7, 3.0, 6.1, 2.3),\n",
       "  (6.3, 2.3, 4.4, 1.3),\n",
       "  (5.1, 3.5, 1.4, 0.2),\n",
       "  (5.7, 4.4, 1.5, 0.4),\n",
       "  (4.8, 3.0, 1.4, 0.3),\n",
       "  (6.0, 2.2, 4.0, 1.0),\n",
       "  (5.4, 3.4, 1.7, 0.2),\n",
       "  (5.5, 2.4, 3.8, 1.1),\n",
       "  (7.3, 2.9, 6.3, 1.8),\n",
       "  (6.0, 2.2, 5.0, 1.5),\n",
       "  (5.0, 3.4, 1.6, 0.4),\n",
       "  (4.8, 3.1, 1.6, 0.2),\n",
       "  (6.4, 3.1, 5.5, 1.8),\n",
       "  (6.4, 2.8, 5.6, 2.2),\n",
       "  (6.2, 2.2, 4.5, 1.5),\n",
       "  (5.9, 3.0, 4.2, 1.5),\n",
       "  (4.8, 3.4, 1.6, 0.2),\n",
       "  (5.8, 2.7, 4.1, 1.0),\n",
       "  (5.7, 3.8, 1.7, 0.3),\n",
       "  (6.6, 3.0, 4.4, 1.4),\n",
       "  (6.9, 3.1, 4.9, 1.5),\n",
       "  (5.8, 2.7, 5.1, 1.9),\n",
       "  (5.8, 2.7, 3.9, 1.2),\n",
       "  (5.0, 3.0, 1.6, 0.2),\n",
       "  (4.4, 3.2, 1.3, 0.2),\n",
       "  (6.2, 2.8, 4.8, 1.8),\n",
       "  (6.3, 3.4, 5.6, 2.4),\n",
       "  (6.5, 3.0, 5.2, 2.0),\n",
       "  (6.3, 3.3, 6.0, 2.5),\n",
       "  (7.4, 2.8, 6.1, 1.9),\n",
       "  (6.3, 2.7, 4.9, 1.8),\n",
       "  (6.7, 3.3, 5.7, 2.1),\n",
       "  (6.3, 2.5, 4.9, 1.5),\n",
       "  (6.7, 3.1, 4.4, 1.4),\n",
       "  (6.9, 3.1, 5.4, 2.1),\n",
       "  (5.7, 2.6, 3.5, 1.0),\n",
       "  (6.1, 3.0, 4.6, 1.4),\n",
       "  (5.5, 3.5, 1.3, 0.2),\n",
       "  (5.5, 2.5, 4.0, 1.3),\n",
       "  (6.6, 2.9, 4.6, 1.3),\n",
       "  (6.0, 2.7, 5.1, 1.6),\n",
       "  (5.0, 3.5, 1.6, 0.6),\n",
       "  (5.0, 2.0, 3.5, 1.0),\n",
       "  (5.6, 2.8, 4.9, 2.0),\n",
       "  (6.1, 3.0, 4.9, 1.8),\n",
       "  (4.7, 3.2, 1.3, 0.2),\n",
       "  (5.6, 2.9, 3.6, 1.3),\n",
       "  (5.7, 2.5, 5.0, 2.0),\n",
       "  (6.7, 2.5, 5.8, 1.8),\n",
       "  (6.3, 2.5, 5.0, 1.9),\n",
       "  (4.9, 3.0, 1.4, 0.2),\n",
       "  (5.8, 2.6, 4.0, 1.2),\n",
       "  (6.3, 2.9, 5.6, 1.8),\n",
       "  (6.5, 3.2, 5.1, 2.0),\n",
       "  (5.8, 2.8, 5.1, 2.4),\n",
       "  (5.1, 3.7, 1.5, 0.4),\n",
       "  (5.5, 2.6, 4.4, 1.2),\n",
       "  (5.0, 3.6, 1.4, 0.2),\n",
       "  (7.2, 3.6, 6.1, 2.5),\n",
       "  (6.5, 3.0, 5.8, 2.2),\n",
       "  (4.8, 3.4, 1.9, 0.2),\n",
       "  (6.8, 3.2, 5.9, 2.3),\n",
       "  (5.9, 3.0, 5.1, 1.8),\n",
       "  (4.8, 3.0, 1.4, 0.1),\n",
       "  (5.0, 3.4, 1.5, 0.2),\n",
       "  (5.5, 2.4, 3.7, 1.0),\n",
       "  (7.7, 2.8, 6.7, 2.0),\n",
       "  (4.5, 2.3, 1.3, 0.3),\n",
       "  (6.7, 3.0, 5.0, 1.7),\n",
       "  (6.2, 3.4, 5.4, 2.3),\n",
       "  (5.0, 2.3, 3.3, 1.0),\n",
       "  (5.2, 3.5, 1.5, 0.2),\n",
       "  (4.6, 3.6, 1.0, 0.2),\n",
       "  (5.6, 3.0, 4.1, 1.3),\n",
       "  (5.6, 3.0, 4.5, 1.5),\n",
       "  (5.7, 2.8, 4.5, 1.3)],\n",
       " array([0, 0, 0, 1, 2, 0, 0, 0, 2, 2, 1, 2, 2, 0, 1, 2, 2, 0, 1, 2, 2, 0,\n",
       "        2, 0, 0, 1, 1, 0, 2, 1, 0, 1, 1, 0, 0, 1, 1, 2, 0, 1, 0, 0, 1, 0,\n",
       "        2, 1, 0, 0, 0, 1, 0, 1, 2, 2, 0, 0, 2, 2, 1, 1, 0, 1, 0, 1, 1, 2,\n",
       "        1, 0, 0, 2, 2, 2, 2, 2, 2, 2, 1, 1, 2, 1, 1, 0, 1, 1, 1, 0, 1, 2,\n",
       "        2, 0, 1, 2, 2, 2, 0, 1, 2, 2, 2, 0, 1, 0, 2, 2, 0, 2, 2, 0, 0, 1,\n",
       "        2, 0, 1, 2, 1, 0, 0, 1, 1, 1]))"
      ]
     },
     "execution_count": 3,
     "metadata": {},
     "output_type": "execute_result"
    }
   ],
   "source": [
    "from sklearn.preprocessing import LabelEncoder\n",
    "\n",
    "X = [(sample['SepalLengthCm'], sample['SepalWidthCm'], sample['PetalLengthCm'], sample['PetalWidthCm']) for sample in ds['train']]\n",
    "y = [sample['Species'] for sample in ds['train']]\n",
    "labelencoder = LabelEncoder()\n",
    "y = labelencoder.fit_transform(y)\n",
    "X, y"
   ]
  },
  {
   "cell_type": "code",
   "execution_count": 4,
   "metadata": {},
   "outputs": [
    {
     "data": {
      "text/plain": [
       "(array([0, 0, 0, 2, 1, 0, 0, 0, 1, 2, 2, 1, 1, 0, 2, 1, 1, 0, 2, 1, 1, 0,\n",
       "        2, 0, 0, 2, 1, 0, 1, 2, 0, 2, 2, 0, 0, 2, 2, 1, 0, 2, 0, 0, 2, 0,\n",
       "        1, 2, 0, 0, 0, 2, 0, 2, 1, 2, 0, 0, 1, 1, 2, 2, 0, 2, 0, 2, 1, 2,\n",
       "        2, 0, 0, 2, 1, 1, 1, 1, 2, 1, 2, 2, 1, 2, 2, 0, 2, 2, 2, 0, 2, 2,\n",
       "        2, 0, 2, 2, 1, 2, 0, 2, 1, 1, 1, 0, 2, 0, 1, 1, 0, 1, 2, 0, 0, 2,\n",
       "        1, 0, 1, 1, 2, 0, 0, 2, 2, 2], dtype=int32),\n",
       " 120)"
      ]
     },
     "execution_count": 4,
     "metadata": {},
     "output_type": "execute_result"
    }
   ],
   "source": [
    "from KMEANS import KMEANS\n",
    "\n",
    "model = KMEANS()\n",
    "model.fit(X)\n",
    "model.predict(X), len(model.predict(X))"
   ]
  },
  {
   "cell_type": "code",
   "execution_count": 5,
   "metadata": {},
   "outputs": [],
   "source": [
    "from utils import evaluate_clusting\n",
    "model = KMEANS()\n",
    "model.fit(X)\n",
    "labels = model.predict(X)\n",
    "y_true = y\n",
    "metrics = evaluate_clusting(X, labels, y_true, model)\n"
   ]
  },
  {
   "cell_type": "code",
   "execution_count": 6,
   "metadata": {},
   "outputs": [
    {
     "name": "stdout",
     "output_type": "stream",
     "text": [
      "silhouette_Coefficient: 0.5510693718494248\n",
      "calinski_harabasz_score: 493.51646191608955\n",
      "fmi_score: 0.8079922767780366\n",
      "run_time: 0.005448818206787109\n",
      "num_iterations: 300\n"
     ]
    }
   ],
   "source": [
    "for key, value in metrics.items():\n",
    "    print(f\"{key}: {value}\")"
   ]
  },
  {
   "cell_type": "code",
   "execution_count": 7,
   "metadata": {},
   "outputs": [],
   "source": [
    "from FCM import FCM\n",
    "\n",
    "model = FCM()\n",
    "model.fit(X)\n",
    "labels = model.predict(X)\n",
    "y_true = y\n",
    "metrics = evaluate_clusting(X, labels, y_true, model)"
   ]
  },
  {
   "cell_type": "code",
   "execution_count": 8,
   "metadata": {},
   "outputs": [
    {
     "name": "stdout",
     "output_type": "stream",
     "text": [
      "silhouette_Coefficient: 0.5451109724482319\n",
      "calinski_harabasz_score: 491.97158147407833\n",
      "fmi_score: 0.8293886265111595\n",
      "run_time: 0.0031783580780029297\n",
      "num_iterations: 300\n"
     ]
    }
   ],
   "source": [
    "for key, value in metrics.items():\n",
    "    print(f\"{key}: {value}\")"
   ]
  },
  {
   "cell_type": "code",
   "execution_count": 9,
   "metadata": {},
   "outputs": [
    {
     "name": "stdout",
     "output_type": "stream",
     "text": [
      "silhouette_Coefficient: 0.5451109724482319\n",
      "calinski_harabasz_score: 491.97158147407833\n",
      "fmi_score: 0.8293886265111595\n",
      "run_time: 0.003322124481201172\n",
      "num_iterations: 300\n"
     ]
    }
   ],
   "source": [
    "# 先使用 kmeans得到初始聚类中心，然后使用 FCM 进行聚类\n",
    "\n",
    "kmeans_model = KMEANS(max_iter=100)\n",
    "kmeans_model.fit(X)\n",
    "kmeans_center = kmeans_model.cluster_centers_ # 获取Kmeans的聚类中心\n",
    "\n",
    "# 将 Kmeans 的聚类中心传递给 FCM\n",
    "fcm_model = FCM(max_iter=300, init_center=kmeans_center)\n",
    "# 使用 FCM 继续迭代\n",
    "fcm_model.fit(X)\n",
    "labels = fcm_model.predict(X) \n",
    "metrics = evaluate_clusting(X, labels, y, fcm_model)\n",
    "\n",
    "for key, value in metrics.items():\n",
    "    print(f\"{key}: {value}\")"
   ]
  },
  {
   "cell_type": "code",
   "execution_count": null,
   "metadata": {},
   "outputs": [],
   "source": []
  }
 ],
 "metadata": {
  "kernelspec": {
   "display_name": "moshi",
   "language": "python",
   "name": "python3"
  },
  "language_info": {
   "codemirror_mode": {
    "name": "ipython",
    "version": 3
   },
   "file_extension": ".py",
   "mimetype": "text/x-python",
   "name": "python",
   "nbconvert_exporter": "python",
   "pygments_lexer": "ipython3",
   "version": "3.10.15"
  }
 },
 "nbformat": 4,
 "nbformat_minor": 2
}
