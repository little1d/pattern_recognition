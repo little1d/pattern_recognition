{
 "cells": [
  {
   "cell_type": "code",
   "execution_count": 1,
   "metadata": {},
   "outputs": [
    {
     "name": "stdout",
     "output_type": "stream",
     "text": [
      "Requirement already satisfied: datasets in /Users/little1d/Desktop/Dev_env/miniconda3/envs/moshi/lib/python3.10/site-packages (3.0.1)\n",
      "Requirement already satisfied: filelock in /Users/little1d/Desktop/Dev_env/miniconda3/envs/moshi/lib/python3.10/site-packages (from datasets) (3.16.1)\n",
      "Requirement already satisfied: numpy>=1.17 in /Users/little1d/Desktop/Dev_env/miniconda3/envs/moshi/lib/python3.10/site-packages (from datasets) (2.1.1)\n",
      "Requirement already satisfied: pyarrow>=15.0.0 in /Users/little1d/Desktop/Dev_env/miniconda3/envs/moshi/lib/python3.10/site-packages (from datasets) (17.0.0)\n",
      "Requirement already satisfied: dill<0.3.9,>=0.3.0 in /Users/little1d/Desktop/Dev_env/miniconda3/envs/moshi/lib/python3.10/site-packages (from datasets) (0.3.8)\n",
      "Requirement already satisfied: pandas in /Users/little1d/Desktop/Dev_env/miniconda3/envs/moshi/lib/python3.10/site-packages (from datasets) (2.2.3)\n",
      "Requirement already satisfied: requests>=2.32.2 in /Users/little1d/Desktop/Dev_env/miniconda3/envs/moshi/lib/python3.10/site-packages (from datasets) (2.32.3)\n",
      "Requirement already satisfied: tqdm>=4.66.3 in /Users/little1d/Desktop/Dev_env/miniconda3/envs/moshi/lib/python3.10/site-packages (from datasets) (4.66.5)\n",
      "Requirement already satisfied: xxhash in /Users/little1d/Desktop/Dev_env/miniconda3/envs/moshi/lib/python3.10/site-packages (from datasets) (3.5.0)\n",
      "Requirement already satisfied: multiprocess in /Users/little1d/Desktop/Dev_env/miniconda3/envs/moshi/lib/python3.10/site-packages (from datasets) (0.70.16)\n",
      "Requirement already satisfied: fsspec<=2024.6.1,>=2023.1.0 in /Users/little1d/Desktop/Dev_env/miniconda3/envs/moshi/lib/python3.10/site-packages (from fsspec[http]<=2024.6.1,>=2023.1.0->datasets) (2024.6.1)\n",
      "Requirement already satisfied: aiohttp in /Users/little1d/Desktop/Dev_env/miniconda3/envs/moshi/lib/python3.10/site-packages (from datasets) (3.10.8)\n",
      "Requirement already satisfied: huggingface-hub>=0.22.0 in /Users/little1d/Desktop/Dev_env/miniconda3/envs/moshi/lib/python3.10/site-packages (from datasets) (0.25.1)\n",
      "Requirement already satisfied: packaging in /Users/little1d/Desktop/Dev_env/miniconda3/envs/moshi/lib/python3.10/site-packages (from datasets) (24.1)\n",
      "Requirement already satisfied: pyyaml>=5.1 in /Users/little1d/Desktop/Dev_env/miniconda3/envs/moshi/lib/python3.10/site-packages (from datasets) (6.0.2)\n",
      "Requirement already satisfied: aiohappyeyeballs>=2.3.0 in /Users/little1d/Desktop/Dev_env/miniconda3/envs/moshi/lib/python3.10/site-packages (from aiohttp->datasets) (2.4.3)\n",
      "Requirement already satisfied: aiosignal>=1.1.2 in /Users/little1d/Desktop/Dev_env/miniconda3/envs/moshi/lib/python3.10/site-packages (from aiohttp->datasets) (1.3.1)\n",
      "Requirement already satisfied: attrs>=17.3.0 in /Users/little1d/Desktop/Dev_env/miniconda3/envs/moshi/lib/python3.10/site-packages (from aiohttp->datasets) (24.2.0)\n",
      "Requirement already satisfied: frozenlist>=1.1.1 in /Users/little1d/Desktop/Dev_env/miniconda3/envs/moshi/lib/python3.10/site-packages (from aiohttp->datasets) (1.4.1)\n",
      "Requirement already satisfied: multidict<7.0,>=4.5 in /Users/little1d/Desktop/Dev_env/miniconda3/envs/moshi/lib/python3.10/site-packages (from aiohttp->datasets) (6.1.0)\n",
      "Requirement already satisfied: yarl<2.0,>=1.12.0 in /Users/little1d/Desktop/Dev_env/miniconda3/envs/moshi/lib/python3.10/site-packages (from aiohttp->datasets) (1.13.1)\n",
      "Requirement already satisfied: async-timeout<5.0,>=4.0 in /Users/little1d/Desktop/Dev_env/miniconda3/envs/moshi/lib/python3.10/site-packages (from aiohttp->datasets) (4.0.3)\n",
      "Requirement already satisfied: typing-extensions>=3.7.4.3 in /Users/little1d/Desktop/Dev_env/miniconda3/envs/moshi/lib/python3.10/site-packages (from huggingface-hub>=0.22.0->datasets) (4.12.2)\n",
      "Requirement already satisfied: charset-normalizer<4,>=2 in /Users/little1d/Desktop/Dev_env/miniconda3/envs/moshi/lib/python3.10/site-packages (from requests>=2.32.2->datasets) (3.3.2)\n",
      "Requirement already satisfied: idna<4,>=2.5 in /Users/little1d/Desktop/Dev_env/miniconda3/envs/moshi/lib/python3.10/site-packages (from requests>=2.32.2->datasets) (3.10)\n",
      "Requirement already satisfied: urllib3<3,>=1.21.1 in /Users/little1d/Desktop/Dev_env/miniconda3/envs/moshi/lib/python3.10/site-packages (from requests>=2.32.2->datasets) (2.2.3)\n",
      "Requirement already satisfied: certifi>=2017.4.17 in /Users/little1d/Desktop/Dev_env/miniconda3/envs/moshi/lib/python3.10/site-packages (from requests>=2.32.2->datasets) (2024.8.30)\n",
      "Requirement already satisfied: python-dateutil>=2.8.2 in /Users/little1d/Desktop/Dev_env/miniconda3/envs/moshi/lib/python3.10/site-packages (from pandas->datasets) (2.9.0)\n",
      "Requirement already satisfied: pytz>=2020.1 in /Users/little1d/Desktop/Dev_env/miniconda3/envs/moshi/lib/python3.10/site-packages (from pandas->datasets) (2024.2)\n",
      "Requirement already satisfied: tzdata>=2022.7 in /Users/little1d/Desktop/Dev_env/miniconda3/envs/moshi/lib/python3.10/site-packages (from pandas->datasets) (2024.2)\n",
      "Requirement already satisfied: six>=1.5 in /Users/little1d/Desktop/Dev_env/miniconda3/envs/moshi/lib/python3.10/site-packages (from python-dateutil>=2.8.2->pandas->datasets) (1.16.0)\n"
     ]
    }
   ],
   "source": [
    "! pip install datasets"
   ]
  },
  {
   "cell_type": "code",
   "execution_count": 2,
   "metadata": {},
   "outputs": [
    {
     "name": "stderr",
     "output_type": "stream",
     "text": [
      "/Users/little1d/Desktop/Dev_env/miniconda3/envs/moshi/lib/python3.10/site-packages/tqdm/auto.py:21: TqdmWarning: IProgress not found. Please update jupyter and ipywidgets. See https://ipywidgets.readthedocs.io/en/stable/user_install.html\n",
      "  from .autonotebook import tqdm as notebook_tqdm\n"
     ]
    },
    {
     "data": {
      "text/plain": [
       "DatasetDict({\n",
       "    train: Dataset({\n",
       "        features: ['Id', 'SepalLengthCm', 'SepalWidthCm', 'PetalLengthCm', 'PetalWidthCm', 'Species'],\n",
       "        num_rows: 120\n",
       "    })\n",
       "    test: Dataset({\n",
       "        features: ['Id', 'SepalLengthCm', 'SepalWidthCm', 'PetalLengthCm', 'PetalWidthCm', 'Species'],\n",
       "        num_rows: 30\n",
       "    })\n",
       "})"
      ]
     },
     "execution_count": 2,
     "metadata": {},
     "output_type": "execute_result"
    }
   ],
   "source": [
    "from datasets import load_dataset\n",
    "\n",
    "ds = load_dataset(\"scikit-learn/iris\", split=\"train\")\n",
    "\n",
    "ds = ds.train_test_split(test_size=0.2, shuffle=True)\n",
    "\n",
    "ds"
   ]
  },
  {
   "cell_type": "code",
   "execution_count": 3,
   "metadata": {},
   "outputs": [
    {
     "data": {
      "text/plain": [
       "([(6.7, 3.3, 5.7, 2.5),\n",
       "  (6.7, 3.0, 5.0, 1.7),\n",
       "  (6.9, 3.1, 5.1, 2.3),\n",
       "  (6.0, 2.2, 5.0, 1.5),\n",
       "  (5.6, 3.0, 4.1, 1.3),\n",
       "  (6.8, 2.8, 4.8, 1.4),\n",
       "  (7.2, 3.0, 5.8, 1.6),\n",
       "  (6.1, 2.8, 4.0, 1.3),\n",
       "  (6.4, 3.2, 4.5, 1.5),\n",
       "  (6.8, 3.0, 5.5, 2.1),\n",
       "  (6.4, 3.2, 5.3, 2.3),\n",
       "  (6.6, 3.0, 4.4, 1.4),\n",
       "  (5.4, 3.4, 1.7, 0.2),\n",
       "  (4.6, 3.2, 1.4, 0.2),\n",
       "  (5.6, 2.5, 3.9, 1.1),\n",
       "  (6.1, 2.9, 4.7, 1.4),\n",
       "  (6.2, 2.9, 4.3, 1.3),\n",
       "  (4.3, 3.0, 1.1, 0.1),\n",
       "  (7.3, 2.9, 6.3, 1.8),\n",
       "  (5.0, 3.2, 1.2, 0.2),\n",
       "  (7.4, 2.8, 6.1, 1.9),\n",
       "  (5.7, 2.9, 4.2, 1.3),\n",
       "  (7.7, 3.8, 6.7, 2.2),\n",
       "  (5.7, 2.8, 4.1, 1.3),\n",
       "  (6.0, 2.9, 4.5, 1.5),\n",
       "  (6.1, 2.8, 4.7, 1.2),\n",
       "  (4.9, 2.5, 4.5, 1.7),\n",
       "  (6.9, 3.1, 4.9, 1.5),\n",
       "  (6.5, 2.8, 4.6, 1.5),\n",
       "  (6.4, 2.7, 5.3, 1.9),\n",
       "  (5.1, 3.5, 1.4, 0.3),\n",
       "  (6.8, 3.2, 5.9, 2.3),\n",
       "  (6.9, 3.2, 5.7, 2.3),\n",
       "  (5.8, 4.0, 1.2, 0.2),\n",
       "  (6.7, 3.0, 5.2, 2.3),\n",
       "  (6.7, 3.1, 4.4, 1.4),\n",
       "  (6.4, 2.8, 5.6, 2.1),\n",
       "  (5.1, 3.8, 1.5, 0.3),\n",
       "  (4.9, 3.0, 1.4, 0.2),\n",
       "  (4.6, 3.1, 1.5, 0.2),\n",
       "  (6.2, 2.8, 4.8, 1.8),\n",
       "  (5.8, 2.8, 5.1, 2.4),\n",
       "  (5.0, 3.5, 1.6, 0.6),\n",
       "  (5.2, 4.1, 1.5, 0.1),\n",
       "  (5.5, 2.3, 4.0, 1.3),\n",
       "  (6.3, 3.3, 4.7, 1.6),\n",
       "  (5.9, 3.0, 4.2, 1.5),\n",
       "  (6.7, 3.1, 4.7, 1.5),\n",
       "  (6.1, 3.0, 4.9, 1.8),\n",
       "  (5.1, 3.7, 1.5, 0.4),\n",
       "  (5.5, 2.5, 4.0, 1.3),\n",
       "  (6.2, 2.2, 4.5, 1.5),\n",
       "  (6.3, 2.3, 4.4, 1.3),\n",
       "  (5.6, 3.0, 4.5, 1.5),\n",
       "  (5.8, 2.7, 5.1, 1.9),\n",
       "  (5.0, 3.0, 1.6, 0.2),\n",
       "  (6.5, 3.0, 5.2, 2.0),\n",
       "  (7.7, 3.0, 6.1, 2.3),\n",
       "  (4.8, 3.0, 1.4, 0.1),\n",
       "  (5.8, 2.7, 4.1, 1.0),\n",
       "  (4.4, 3.0, 1.3, 0.2),\n",
       "  (4.9, 3.1, 1.5, 0.1),\n",
       "  (5.7, 2.6, 3.5, 1.0),\n",
       "  (5.8, 2.7, 5.1, 1.9),\n",
       "  (5.6, 2.7, 4.2, 1.3),\n",
       "  (7.9, 3.8, 6.4, 2.0),\n",
       "  (5.4, 3.7, 1.5, 0.2),\n",
       "  (4.6, 3.6, 1.0, 0.2),\n",
       "  (6.3, 3.4, 5.6, 2.4),\n",
       "  (4.8, 3.0, 1.4, 0.3),\n",
       "  (5.4, 3.4, 1.5, 0.4),\n",
       "  (6.1, 3.0, 4.6, 1.4),\n",
       "  (5.9, 3.0, 5.1, 1.8),\n",
       "  (5.1, 3.3, 1.7, 0.5),\n",
       "  (5.0, 2.3, 3.3, 1.0),\n",
       "  (5.0, 3.4, 1.6, 0.4),\n",
       "  (5.4, 3.0, 4.5, 1.5),\n",
       "  (5.7, 2.5, 5.0, 2.0),\n",
       "  (5.8, 2.6, 4.0, 1.2),\n",
       "  (6.0, 2.7, 5.1, 1.6),\n",
       "  (5.4, 3.9, 1.7, 0.4),\n",
       "  (5.7, 3.8, 1.7, 0.3),\n",
       "  (6.0, 3.0, 4.8, 1.8),\n",
       "  (7.2, 3.2, 6.0, 1.8),\n",
       "  (5.2, 3.4, 1.4, 0.2),\n",
       "  (5.5, 2.4, 3.8, 1.1),\n",
       "  (7.1, 3.0, 5.9, 2.1),\n",
       "  (6.0, 3.4, 4.5, 1.6),\n",
       "  (5.5, 2.4, 3.7, 1.0),\n",
       "  (6.0, 2.2, 4.0, 1.0),\n",
       "  (6.9, 3.1, 5.4, 2.1),\n",
       "  (5.0, 3.4, 1.5, 0.2),\n",
       "  (5.1, 3.8, 1.9, 0.4),\n",
       "  (5.6, 2.8, 4.9, 2.0),\n",
       "  (6.1, 2.6, 5.6, 1.4),\n",
       "  (7.7, 2.6, 6.9, 2.3),\n",
       "  (6.7, 3.3, 5.7, 2.1),\n",
       "  (5.3, 3.7, 1.5, 0.2),\n",
       "  (7.0, 3.2, 4.7, 1.4),\n",
       "  (4.4, 3.2, 1.3, 0.2),\n",
       "  (5.0, 3.6, 1.4, 0.2),\n",
       "  (6.3, 3.3, 6.0, 2.5),\n",
       "  (4.9, 3.1, 1.5, 0.1),\n",
       "  (5.0, 3.3, 1.4, 0.2),\n",
       "  (4.7, 3.2, 1.6, 0.2),\n",
       "  (6.4, 3.1, 5.5, 1.8),\n",
       "  (6.3, 2.9, 5.6, 1.8),\n",
       "  (4.8, 3.1, 1.6, 0.2),\n",
       "  (6.5, 3.0, 5.5, 1.8),\n",
       "  (6.4, 2.8, 5.6, 2.2),\n",
       "  (5.5, 3.5, 1.3, 0.2),\n",
       "  (5.7, 4.4, 1.5, 0.4),\n",
       "  (5.1, 3.8, 1.6, 0.2),\n",
       "  (5.1, 3.4, 1.5, 0.2),\n",
       "  (7.7, 2.8, 6.7, 2.0),\n",
       "  (6.5, 3.2, 5.1, 2.0),\n",
       "  (4.6, 3.4, 1.4, 0.3),\n",
       "  (4.5, 2.3, 1.3, 0.3),\n",
       "  (5.2, 2.7, 3.9, 1.4),\n",
       "  (4.9, 3.1, 1.5, 0.1)],\n",
       " array([2, 1, 2, 2, 1, 1, 2, 1, 1, 2, 2, 1, 0, 0, 1, 1, 1, 0, 2, 0, 2, 1,\n",
       "        2, 1, 1, 1, 2, 1, 1, 2, 0, 2, 2, 0, 2, 1, 2, 0, 0, 0, 2, 2, 0, 0,\n",
       "        1, 1, 1, 1, 2, 0, 1, 1, 1, 1, 2, 0, 2, 2, 0, 1, 0, 0, 1, 2, 1, 2,\n",
       "        0, 0, 2, 0, 0, 1, 2, 0, 1, 0, 1, 2, 1, 1, 0, 0, 2, 2, 0, 1, 2, 1,\n",
       "        1, 1, 2, 0, 0, 2, 2, 2, 2, 0, 1, 0, 0, 2, 0, 0, 0, 2, 2, 0, 2, 2,\n",
       "        0, 0, 0, 0, 2, 2, 0, 0, 1, 0]))"
      ]
     },
     "execution_count": 3,
     "metadata": {},
     "output_type": "execute_result"
    }
   ],
   "source": [
    "from sklearn.preprocessing import LabelEncoder\n",
    "\n",
    "X = [(sample['SepalLengthCm'], sample['SepalWidthCm'], sample['PetalLengthCm'], sample['PetalWidthCm']) for sample in ds['train']]\n",
    "y = [sample['Species'] for sample in ds['train']]\n",
    "labelencoder = LabelEncoder()\n",
    "y = labelencoder.fit_transform(y)\n",
    "X, y"
   ]
  },
  {
   "cell_type": "code",
   "execution_count": 4,
   "metadata": {},
   "outputs": [
    {
     "data": {
      "text/plain": [
       "(array([2, 2, 2, 1, 1, 1, 2, 1, 1, 2, 2, 1, 0, 0, 1, 1, 1, 0, 2, 0, 2, 1,\n",
       "        2, 1, 1, 1, 1, 2, 1, 2, 0, 2, 2, 0, 2, 1, 2, 0, 0, 0, 1, 1, 0, 0,\n",
       "        1, 1, 1, 1, 1, 0, 1, 1, 1, 1, 1, 0, 2, 2, 0, 1, 0, 0, 1, 1, 1, 2,\n",
       "        0, 0, 2, 0, 0, 1, 1, 0, 1, 0, 1, 1, 1, 1, 0, 0, 1, 2, 0, 1, 2, 1,\n",
       "        1, 1, 2, 0, 0, 1, 2, 2, 2, 0, 1, 0, 0, 2, 0, 0, 0, 2, 2, 0, 2, 2,\n",
       "        0, 0, 0, 0, 2, 2, 0, 0, 1, 0], dtype=int32),\n",
       " 120)"
      ]
     },
     "execution_count": 4,
     "metadata": {},
     "output_type": "execute_result"
    }
   ],
   "source": [
    "from KMEANS import KMEANS\n",
    "\n",
    "model = KMEANS()\n",
    "model.fit(X)\n",
    "model.predict(X), len(model.predict(X))"
   ]
  },
  {
   "cell_type": "code",
   "execution_count": 5,
   "metadata": {},
   "outputs": [],
   "source": [
    "from utils import evaluate_clusting\n",
    "model = KMEANS()\n",
    "model.fit(X)\n",
    "labels = model.predict(X)\n",
    "y_true = y\n",
    "metrics = evaluate_clusting(X, labels, y_true, model)\n"
   ]
  },
  {
   "cell_type": "code",
   "execution_count": 6,
   "metadata": {},
   "outputs": [
    {
     "name": "stdout",
     "output_type": "stream",
     "text": [
      "silhouette_Coefficient: 0.5558074452258202\n",
      "calinski_harabasz_score: 483.331527515567\n",
      "fmi_score: 0.8074770819331386\n",
      "run_time: 0.04781222343444824\n",
      "num_iterations: 300\n"
     ]
    }
   ],
   "source": [
    "for key, value in metrics.items():\n",
    "    print(f\"{key}: {value}\")"
   ]
  },
  {
   "cell_type": "code",
   "execution_count": 9,
   "metadata": {},
   "outputs": [],
   "source": [
    "from FCM import FCM\n",
    "\n",
    "model = FCM()\n",
    "model.fit(X)\n",
    "labels = model.predict(X)\n",
    "y_true = y\n",
    "metrics = evaluate_clusting(X, labels, y_true, model)"
   ]
  },
  {
   "cell_type": "code",
   "execution_count": 10,
   "metadata": {},
   "outputs": [
    {
     "name": "stdout",
     "output_type": "stream",
     "text": [
      "silhouette_Coefficient: 0.5558074452258202\n",
      "calinski_harabasz_score: 483.331527515567\n",
      "fmi_score: 0.8074770819331386\n",
      "run_time: 0.003983974456787109\n",
      "num_iterations: 300\n"
     ]
    }
   ],
   "source": [
    "for key, value in metrics.items():\n",
    "    print(f\"{key}: {value}\")"
   ]
  }
 ],
 "metadata": {
  "kernelspec": {
   "display_name": "moshi",
   "language": "python",
   "name": "python3"
  },
  "language_info": {
   "codemirror_mode": {
    "name": "ipython",
    "version": 3
   },
   "file_extension": ".py",
   "mimetype": "text/x-python",
   "name": "python",
   "nbconvert_exporter": "python",
   "pygments_lexer": "ipython3",
   "version": "3.10.15"
  }
 },
 "nbformat": 4,
 "nbformat_minor": 2
}
