{
 "cells": [
  {
   "cell_type": "code",
   "execution_count": null,
   "metadata": {},
   "outputs": [],
   "source": [
    "! pip install datasets"
   ]
  },
  {
   "cell_type": "code",
   "execution_count": 17,
   "metadata": {},
   "outputs": [
    {
     "data": {
      "text/plain": [
       "DatasetDict({\n",
       "    train: Dataset({\n",
       "        features: ['Id', 'SepalLengthCm', 'SepalWidthCm', 'PetalLengthCm', 'PetalWidthCm', 'Species'],\n",
       "        num_rows: 120\n",
       "    })\n",
       "    test: Dataset({\n",
       "        features: ['Id', 'SepalLengthCm', 'SepalWidthCm', 'PetalLengthCm', 'PetalWidthCm', 'Species'],\n",
       "        num_rows: 30\n",
       "    })\n",
       "})"
      ]
     },
     "execution_count": 17,
     "metadata": {},
     "output_type": "execute_result"
    }
   ],
   "source": [
    "from datasets import load_dataset\n",
    "\n",
    "ds = load_dataset(\"scikit-learn/iris\", split=\"train\")\n",
    "\n",
    "ds = ds.train_test_split(test_size=0.2, shuffle=True)\n",
    "\n",
    "ds"
   ]
  },
  {
   "cell_type": "code",
   "execution_count": 80,
   "metadata": {},
   "outputs": [],
   "source": [
    "ds = load_dataset(\"mstz/sonar\", split=\"train\")\n",
    "ds = ds.train_test_split(test_size=0.2, shuffle=True)"
   ]
  },
  {
   "cell_type": "code",
   "execution_count": 97,
   "metadata": {},
   "outputs": [
    {
     "data": {
      "text/plain": [
       "[0.03629999980330467,\n",
       " 0.04780000075697899,\n",
       " 0.02979999966919422,\n",
       " 0.020999999716877937,\n",
       " 0.14090000092983246,\n",
       " 0.1915999948978424,\n",
       " 0.13490000367164612,\n",
       " 0.16130000352859497,\n",
       " 0.17030000686645508,\n",
       " 0.1444000005722046,\n",
       " 0.1988999992609024,\n",
       " 0.21539999544620514,\n",
       " 0.28630000352859497,\n",
       " 0.3569999933242798,\n",
       " 0.39800000190734863,\n",
       " 0.4359000027179718,\n",
       " 0.5333999991416931,\n",
       " 0.6304000020027161,\n",
       " 0.6995000243186951,\n",
       " 0.7434999942779541,\n",
       " 0.8378999829292297,\n",
       " 0.8640999794006348,\n",
       " 0.9014000296592712,\n",
       " 0.9431999921798706,\n",
       " 0.9535999894142151,\n",
       " 1.0,\n",
       " 0.9546999931335449,\n",
       " 0.9745000004768372,\n",
       " 0.8962000012397766,\n",
       " 0.7196000218391418,\n",
       " 0.5461999773979187,\n",
       " 0.3156000077724457,\n",
       " 0.2524999976158142,\n",
       " 0.19689999520778656,\n",
       " 0.21889999508857727,\n",
       " 0.15330000221729279,\n",
       " 0.07109999656677246,\n",
       " 0.14980000257492065,\n",
       " 0.17550000548362732,\n",
       " 0.22759999334812164,\n",
       " 0.13220000267028809,\n",
       " 0.10559999942779541,\n",
       " 0.1973000019788742,\n",
       " 0.16920000314712524,\n",
       " 0.18809999525547028,\n",
       " 0.1177000030875206,\n",
       " 0.0778999999165535,\n",
       " 0.0494999997317791,\n",
       " 0.04919999837875366,\n",
       " 0.01940000057220459,\n",
       " 0.02500000037252903,\n",
       " 0.011500000022351742,\n",
       " 0.01899999938905239,\n",
       " 0.005499999970197678,\n",
       " 0.009600000455975533,\n",
       " 0.004999999888241291,\n",
       " 0.006599999964237213,\n",
       " 0.01140000019222498,\n",
       " 0.007300000172108412,\n",
       " 0.0032999999821186066]"
      ]
     },
     "execution_count": 97,
     "metadata": {},
     "output_type": "execute_result"
    }
   ],
   "source": [
    "list(ds['train'][0].values())[:60]"
   ]
  },
  {
   "cell_type": "code",
   "execution_count": 99,
   "metadata": {},
   "outputs": [
    {
     "name": "stdout",
     "output_type": "stream",
     "text": [
      "[0.03629999980330467, 0.04780000075697899, 0.02979999966919422, 0.020999999716877937, 0.14090000092983246, 0.1915999948978424, 0.13490000367164612, 0.16130000352859497, 0.17030000686645508, 0.1444000005722046, 0.1988999992609024, 0.21539999544620514, 0.28630000352859497, 0.3569999933242798, 0.39800000190734863, 0.4359000027179718, 0.5333999991416931, 0.6304000020027161, 0.6995000243186951, 0.7434999942779541, 0.8378999829292297, 0.8640999794006348, 0.9014000296592712, 0.9431999921798706, 0.9535999894142151, 1.0, 0.9546999931335449, 0.9745000004768372, 0.8962000012397766, 0.7196000218391418, 0.5461999773979187, 0.3156000077724457, 0.2524999976158142, 0.19689999520778656, 0.21889999508857727, 0.15330000221729279, 0.07109999656677246, 0.14980000257492065, 0.17550000548362732, 0.22759999334812164, 0.13220000267028809, 0.10559999942779541, 0.1973000019788742, 0.16920000314712524, 0.18809999525547028, 0.1177000030875206, 0.0778999999165535, 0.0494999997317791, 0.04919999837875366, 0.01940000057220459, 0.02500000037252903, 0.011500000022351742, 0.01899999938905239, 0.005499999970197678, 0.009600000455975533, 0.004999999888241291, 0.006599999964237213, 0.01140000019222498, 0.007300000172108412, 0.0032999999821186066]\n"
     ]
    }
   ],
   "source": [
    "X_train = [list(sample.values())[:60] for sample in ds['train']]\n",
    "X_test = [list(sample.values())[:60] for sample in ds['test']]\n",
    "print(X_train[0])"
   ]
  },
  {
   "cell_type": "code",
   "execution_count": 50,
   "metadata": {},
   "outputs": [
    {
     "name": "stdout",
     "output_type": "stream",
     "text": [
      "{'Id': 113, 'SepalLengthCm': 6.8, 'SepalWidthCm': 3.0, 'PetalLengthCm': 5.5, 'PetalWidthCm': 2.1, 'Species': 'Iris-virginica'}\n"
     ]
    }
   ],
   "source": [
    "print(ds['train'][0])\n",
    "\n",
    "X_train = [(sample['SepalLengthCm'], sample['SepalWidthCm'], sample['PetalLengthCm'], sample['PetalWidthCm']) for sample in ds['train']]\n",
    "\n",
    "X_test = [(sample['SepalLengthCm'], sample['SepalWidthCm'], sample['PetalLengthCm'], sample['PetalWidthCm']) for sample in ds['test']]"
   ]
  },
  {
   "cell_type": "code",
   "execution_count": 76,
   "metadata": {},
   "outputs": [
    {
     "name": "stdout",
     "output_type": "stream",
     "text": [
      "KMeans with 3 clusters score: -17.97\n",
      "KMeans with 4 clusters score: -13.94\n",
      "KMeans with 5 clusters score: -11.43\n",
      "KMeans with 6 clusters score: -9.44\n",
      "KMeans with 7 clusters score: -8.56\n",
      "KMeans with 8 clusters score: -7.44\n",
      "KMeans with 9 clusters score: -7.38\n"
     ]
    },
    {
     "data": {
      "image/png": "[encoded data removed]",
      "text/plain": [
       "<Figure size 1200x800 with 1 Axes>"
      ]
     },
     "metadata": {},
     "output_type": "display_data"
    }
   ],
   "source": [
    "import matplotlib.pyplot as plt\n",
    "from sklearn.cluster import KMeans\n",
    "\n",
    "cluster_numbers = range(3, 10)\n",
    "\n",
    "scores = []\n",
    "\n",
    "for n_clusters in cluster_numbers:\n",
    "    kmeans = KMeans(n_clusters=n_clusters)\n",
    "    kmeans.fit(X_train)\n",
    "    score = kmeans.score(X_test)\n",
    "    print(f\"KMeans with {n_clusters} clusters score: {score:.2f}\")\n",
    "    scores.append(score)\n",
    "\n",
    "plt.figure(figsize=(12, 8))\n",
    "plt.scatter(cluster_numbers, scores)\n",
    "plt.xlabel(\"Number of clusters\")\n",
    "plt.ylabel(\"Score\")\n",
    "plt.title(\"KMeans Scores for Dataset iris\")\n",
    "\n",
    "plt.savefig(\"iris.png\")\n",
    "\n",
    "plt.show()"
   ]
  },
  {
   "cell_type": "code",
   "execution_count": 9,
   "metadata": {},
   "outputs": [
    {
     "name": "stderr",
     "output_type": "stream",
     "text": [
      "Generating train split: 100%|██████████| 60000/60000 [00:00<00:00, 494591.88 examples/s]\n",
      "Generating test split: 100%|██████████| 10000/10000 [00:00<00:00, 703128.81 examples/s]\n"
     ]
    },
    {
     "data": {
      "text/plain": [
       "DatasetDict({\n",
       "    train: Dataset({\n",
       "        features: ['image', 'label'],\n",
       "        num_rows: 48000\n",
       "    })\n",
       "    test: Dataset({\n",
       "        features: ['image', 'label'],\n",
       "        num_rows: 12000\n",
       "    })\n",
       "})"
      ]
     },
     "execution_count": 9,
     "metadata": {},
     "output_type": "execute_result"
    }
   ],
   "source": [
    "from datasets import load_dataset\n",
    "\n",
    "ds = load_dataset(\"ylecun/mnist\", split=\"train\")\n",
    "ds = ds.train_test_split(test_size=0.2, shuffle=True)\n",
    "ds"
   ]
  },
  {
   "cell_type": "code",
   "execution_count": 102,
   "metadata": {},
   "outputs": [
    {
     "data": {
      "text/plain": [
       "{'image': <PIL.PngImagePlugin.PngImageFile image mode=L size=28x28>,\n",
       " 'label': 0}"
      ]
     },
     "execution_count": 102,
     "metadata": {},
     "output_type": "execute_result"
    }
   ],
   "source": [
    "ds['train'][0]"
   ]
  },
  {
   "cell_type": "code",
   "execution_count": 107,
   "metadata": {},
   "outputs": [
    {
     "ename": "AttributeError",
     "evalue": "'PngImageFile' object has no attribute 'reshape'",
     "output_type": "error",
     "traceback": [
      "\u001b[0;31m---------------------------------------------------------------------------\u001b[0m",
      "\u001b[0;31mAttributeError\u001b[0m                            Traceback (most recent call last)",
      "Cell \u001b[0;32mIn[107], line 1\u001b[0m\n\u001b[0;32m----> 1\u001b[0m \u001b[43mds\u001b[49m\u001b[43m[\u001b[49m\u001b[38;5;124;43m'\u001b[39;49m\u001b[38;5;124;43mtrain\u001b[39;49m\u001b[38;5;124;43m'\u001b[39;49m\u001b[43m]\u001b[49m\u001b[43m[\u001b[49m\u001b[38;5;241;43m0\u001b[39;49m\u001b[43m]\u001b[49m\u001b[43m[\u001b[49m\u001b[38;5;124;43m'\u001b[39;49m\u001b[38;5;124;43mimage\u001b[39;49m\u001b[38;5;124;43m'\u001b[39;49m\u001b[43m]\u001b[49m\u001b[38;5;241;43m.\u001b[39;49m\u001b[43mreshape\u001b[49m(\u001b[38;5;241m28\u001b[39m, \u001b[38;5;241m28\u001b[39m)\n",
      "\u001b[0;31mAttributeError\u001b[0m: 'PngImageFile' object has no attribute 'reshape'"
     ]
    }
   ],
   "source": [
    "ds['train'][0]['image']"
   ]
  },
  {
   "cell_type": "code",
   "execution_count": 106,
   "metadata": {},
   "outputs": [
    {
     "ename": "AttributeError",
     "evalue": "'list' object has no attribute 'reshape'",
     "output_type": "error",
     "traceback": [
      "\u001b[0;31m---------------------------------------------------------------------------\u001b[0m",
      "\u001b[0;31mAttributeError\u001b[0m                            Traceback (most recent call last)",
      "Cell \u001b[0;32mIn[106], line 7\u001b[0m\n\u001b[1;32m      4\u001b[0m X_test \u001b[38;5;241m=\u001b[39m [sample[\u001b[38;5;124m'\u001b[39m\u001b[38;5;124mimage\u001b[39m\u001b[38;5;124m'\u001b[39m] \u001b[38;5;28;01mfor\u001b[39;00m sample \u001b[38;5;129;01min\u001b[39;00m ds[\u001b[38;5;124m'\u001b[39m\u001b[38;5;124mtest\u001b[39m\u001b[38;5;124m'\u001b[39m]]\n\u001b[1;32m      6\u001b[0m \u001b[38;5;66;03m# Normalize the data\u001b[39;00m\n\u001b[0;32m----> 7\u001b[0m X_train \u001b[38;5;241m=\u001b[39m \u001b[43mX_train\u001b[49m\u001b[38;5;241;43m.\u001b[39;49m\u001b[43mreshape\u001b[49m(\u001b[38;5;28mlen\u001b[39m(X_train), \u001b[38;5;241m-\u001b[39m\u001b[38;5;241m1\u001b[39m)\u001b[38;5;241m.\u001b[39mastype(\u001b[38;5;28mfloat\u001b[39m) \u001b[38;5;241m/\u001b[39m \u001b[38;5;241m255.0\u001b[39m\n\u001b[1;32m      8\u001b[0m X_test \u001b[38;5;241m=\u001b[39m X_test\u001b[38;5;241m.\u001b[39mreshape(\u001b[38;5;28mlen\u001b[39m(X_test), \u001b[38;5;241m-\u001b[39m\u001b[38;5;241m1\u001b[39m)\u001b[38;5;241m.\u001b[39mastype(\u001b[38;5;28mfloat\u001b[39m) \u001b[38;5;241m/\u001b[39m \u001b[38;5;241m255.0\u001b[39m\n\u001b[1;32m     10\u001b[0m X_train\n",
      "\u001b[0;31mAttributeError\u001b[0m: 'list' object has no attribute 'reshape'"
     ]
    }
   ],
   "source": [
    "import numpy as np\n",
    "\n",
    "X_train = [sample['image'] for sample in ds['train']]\n",
    "X_test = [sample['image'] for sample in ds['test']]\n",
    "\n",
    "# Normalize the data\n",
    "X_train = X_train.reshape(len(X_train), -1).astype(float) / 255.0\n",
    "X_test = X_test.reshape(len(X_test), -1).astype(float) / 255.0\n",
    "\n",
    "X_train"
   ]
  }
 ],
 "metadata": {
  "kernelspec": {
   "display_name": "moshi",
   "language": "python",
   "name": "python3"
  },
  "language_info": {
   "codemirror_mode": {
    "name": "ipython",
    "version": 3
   },
   "file_extension": ".py",
   "mimetype": "text/x-python",
   "name": "python",
   "nbconvert_exporter": "python",
   "pygments_lexer": "ipython3",
   "version": "3.10.15"
  }
 },
 "nbformat": 4,
 "nbformat_minor": 2
}
